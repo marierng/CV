{
  "nbformat": 4,
  "nbformat_minor": 0,
  "metadata": {
    "colab": {
      "provenance": [],
      "gpuType": "T4"
    },
    "kernelspec": {
      "name": "python3",
      "display_name": "Python 3"
    },
    "language_info": {
      "name": "python"
    },
    "accelerator": "GPU"
  },
  "cells": [
    {
      "cell_type": "code",
      "execution_count": null,
      "metadata": {
        "colab": {
          "base_uri": "https://localhost:8080/"
        },
        "id": "AHYTe9z3-NAE",
        "outputId": "c874f8d5-27de-4467-b9ca-2a91f3d4e31e"
      },
      "outputs": [
        {
          "output_type": "stream",
          "name": "stdout",
          "text": [
            "Loading model...Done!\n"
          ]
        }
      ],
      "source": [
        "import cv2\n",
        "import numpy as np\n",
        "import tensorflow as tf\n",
        "import tarfile\n",
        "import urllib.request\n",
        "import os\n",
        "\n",
        "MODEL_URL = 'http://download.tensorflow.org/models/object_detection/tf2/20200711/ssd_resnet50_v1_fpn_640x640_coco17_tpu-8.tar.gz '\n",
        "MODEL_FILE = MODEL_URL.split('/')[-1]\n",
        "MODEL_DIR = MODEL_FILE.split('.')[0]\n",
        "\n",
        "if not os.path.exists(MODEL_FILE):\n",
        "    urllib.request.urlretrieve(MODEL_URL, MODEL_FILE)\n",
        "    tar = tarfile.open(MODEL_FILE)\n",
        "    tar.extractall()\n",
        "    tar.close()\n",
        "\n",
        "PATH_TO_SAVED_MODEL = os.path.join(MODEL_DIR, \"saved_model\")\n",
        "print('Loading model...', end='')\n",
        "detect_fn = tf.saved_model.load(PATH_TO_SAVED_MODEL)\n",
        "print('Done!')\n",
        "def load_label_map(label_path):\n",
        "  labels = {}\n",
        "  with open(label_path, 'r') as file:\n",
        "    item = {}\n",
        "    for line in file:\n",
        "      if line.strip().startwith('id:'):\n",
        "        item['id'] = int(line.strip().split(' ')[1])\n",
        "      if line.strip().startwith('display_name:'):\n",
        "        item['display_name'] = line.strip().split('\"')[1]\n",
        "      if 'id' in item and 'display_name' in item:\n",
        "        labels[item['id']]  = item['display_name']\n",
        "        item = {}\n",
        "  return labels\n",
        "\n",
        "\n",
        "labels = load_label_map('/content/mscoco_label_map.pbtxt')\n",
        "\n",
        "\n",
        "def load_image_into_tensor(image):\n",
        "    image = np.asarray(image)\n",
        "    input_tensor = tf.convert_to_tensor(image)\n",
        "    input_tensor = input_tensor[tf.newaxis,...]\n",
        "    return input_tensor\n",
        "\n",
        "def draw_detections(image, detections, threshold=0.65):\n",
        "    scores = detections['detection_scores'][0].numpy()\n",
        "    boxes = detections['detection_boxes'][0].numpy()\n",
        "    classes = detections['detection_classes'][0].numpy().astype(np.int32)\n",
        "\n",
        "    for i in range(len(scores)):\n",
        "        if scores[i] >= threshold:\n",
        "            box = boxes[i] * [image.shape[0], image.shape[1], image.shape[0], image.shape[1]]\n",
        "            y_min, x_min, y_max, x_max = box.astype(int)\n",
        "            cv2.rectangle(image, (x_min, y_min), (x_max, y_max), (0, 255, 0), 2)\n",
        "            class_name = labels.get(classes[i], 'N/A')\n",
        "            label = f'{class_name}: {scores[i]:.2f}'\n",
        "            cv2.putText(image, label, (x_min, y_min - 10), cv2.FONT_HERSHEY_SIMPLEX, 0.5, (0, 255, 0), 2)\n",
        "\n",
        "cap = cv2.VideoCapture('/content/video1.mp4')\n",
        "out = cv2.VideoWriter('output_video.avi', cv2.VideoWriter_fourcc(*'XVID'), 20.0, (int(cap.get(3)), int(cap.get(4))))\n",
        "\n",
        "while cap.isOpened():\n",
        "    ret, frame = cap.read()\n",
        "    if not ret:\n",
        "        break\n",
        "    input_tensor = load_image_into_tensor(frame)\n",
        "    detections = detect_fn(input_tensor)\n",
        "\n",
        "    draw_detections(frame, detections)\n",
        "\n",
        "    out.write(frame)\n",
        "\n",
        "cap.release()\n",
        "out.release()\n",
        "cv2.destroyAllWindows()\n"
      ]
    },
    {
      "cell_type": "code",
      "source": [],
      "metadata": {
        "id": "PfUrL5uw-eAI"
      },
      "execution_count": null,
      "outputs": []
    }
  ]
}